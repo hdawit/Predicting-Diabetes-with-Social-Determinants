{
  "nbformat": 4,
  "nbformat_minor": 0,
  "metadata": {
    "colab": {
      "provenance": [],
      "gpuType": "T4",
      "mount_file_id": "1U--zShBMIi4WznCWgpLB16Hu70_GSJuv",
      "authorship_tag": "ABX9TyOinYxmFOT/81cZGiG1tJO9",
      "include_colab_link": true
    },
    "kernelspec": {
      "name": "python3",
      "display_name": "Python 3"
    },
    "language_info": {
      "name": "python"
    },
    "accelerator": "GPU"
  },
  "cells": [
    {
      "cell_type": "markdown",
      "metadata": {
        "id": "view-in-github",
        "colab_type": "text"
      },
      "source": [
        "<a href=\"https://colab.research.google.com/github/hdawit/Predicting-Diabetes-with-Social-Determinants/blob/main/Modeling.ipynb\" target=\"_parent\"><img src=\"https://colab.research.google.com/assets/colab-badge.svg\" alt=\"Open In Colab\"/></a>"
      ]
    },
    {
      "cell_type": "markdown",
      "source": [
        "## **Introduction:**\n",
        "\n",
        "* Predicting \"Newly_Diagnosed\" cases of diabetes is of significant importance for understanding disease prevalence and developing effective prevention and management strategies. In this modeling file, I will build and compare various regression models, including Linear Regression, Decision Tree, Random Forest, and Gradient Boosting, to accurately predict the number of \"Newly_Diagnosed\" diabetes cases.\n",
        "\n",
        "* The dataset used for modeling comprises comprehensive demographic, socioeconomic, and health-related factors for different regions. Before Modeling, all the necessary preprocessing steps, such as handling missing values, scaling features, and addressing multicollinearity have lready been performed.\n",
        "\n",
        "* To evaluate the performance of each model, I will use appropriate evaluation metrics and techniques, including cross-validation, to ensure robustness. Specifically, I will assess the R-squared scores on the testing data to identify the model that exhibits the strongest relationship between the predictors and the target variable.\n",
        "\n",
        "* Depending on the accuracy of the predictions achieved by the initial models, I may explore other advanced techniques to further improve the model's performance. This could involve leveraging Support Vector Machines (SVM), Ensemble methods, or even deep neural networks to capture complex relationships and enhance predictive accuracy.\n",
        "\n",
        "* By continuously refining the modeling approach and potentially introducing additional models, we aim to uncover deeper insights into the factors contributing to \"Newly_Diagnosed\" diabetes cases. The ultimate goal is to provide valuable information for informed decision-making in diabetes prevention and management strategies.\n",
        "\n",
        "\n",
        "\n",
        "\n"
      ],
      "metadata": {
        "id": "lZsSQdkGSKNC"
      }
    },
    {
      "cell_type": "code",
      "execution_count": null,
      "metadata": {
        "id": "MPyDqNKyHTRs"
      },
      "outputs": [],
      "source": [
        "# Import Libraries\n",
        "\n",
        "import pandas as pd\n",
        "import numpy as np\n",
        "import matplotlib.pyplot as plt\n",
        "import plotly.graph_objects as go\n",
        "import seaborn as sns\n",
        "import time\n",
        "\n",
        "from sklearn.model_selection import train_test_split, GridSearchCV, cross_val_score\n",
        "from sklearn.linear_model import LinearRegression\n",
        "from sklearn.tree import DecisionTreeRegressor\n",
        "from sklearn.ensemble import RandomForestRegressor, GradientBoostingRegressor\n",
        "from sklearn.metrics import mean_squared_error, mean_absolute_error, r2_score\n",
        "from sklearn.utils import shuffle\n",
        "from sklearn.preprocessing import StandardScaler, PolynomialFeatures\n",
        "from sklearn.feature_selection import SelectKBest, f_regression, RFECV\n",
        "from sklearn.preprocessing import StandardScaler, OneHotEncoder\n",
        "from sklearn.compose import ColumnTransformer\n",
        "from sklearn.pipeline import Pipeline\n",
        "import scipy.stats as stats"
      ]
    },
    {
      "cell_type": "code",
      "source": [
        "# Load the preprocessed dataset\n",
        "diabetes = pd.read_csv('/content/drive/MyDrive/Capstone-Project/Diabetes_Data/modified_dataset.csv')\n",
        "\n",
        "# Display the first few rows of the dataset\n",
        "print(diabetes.head())"
      ],
      "metadata": {
        "colab": {
          "base_uri": "https://localhost:8080/"
        },
        "id": "69H7FpXseU5J",
        "outputId": "743f95e4-c133-4cf3-a1c2-7da3e439c72b"
      },
      "execution_count": null,
      "outputs": [
        {
          "output_type": "stream",
          "name": "stdout",
          "text": [
            "        State            County  CountyFIPS  Population_Aged_65_or_Older  \\\n",
            "0  Washington  Jefferson County     30103.0                       0.9946   \n",
            "1        Iowa        Ida County     48431.0                       0.8138   \n",
            "2   Minnesota       Lake County     48173.0                       0.9233   \n",
            "3    Colorado    Douglas County     30109.0                       0.0331   \n",
            "4  New Mexico       Taos County     48155.0                       0.8988   \n",
            "\n",
            "   Population_Below_Poverty  Population_Children_in_Poverty  \\\n",
            "0                    0.3962                            16.6   \n",
            "1                    0.2175                            13.6   \n",
            "2                    0.1048                             8.9   \n",
            "3                    0.0013                             2.6   \n",
            "4                    0.7624                            26.6   \n",
            "\n",
            "   Population_Enrolled_in_Free_or_Reduced_Lunch  Population_Food_Insecurity  \\\n",
            "0                                     48.246242                        13.2   \n",
            "1                                     42.883549                         8.4   \n",
            "2                                     24.622030                         8.8   \n",
            "3                                     11.779681                         5.8   \n",
            "4                                     90.664318                        14.0   \n",
            "\n",
            "   Population_Minority  Population_No_Health_Insurance  \\\n",
            "0               0.3811                             5.4   \n",
            "1               0.0809                             3.5   \n",
            "2               0.0984                             4.2   \n",
            "3               0.5199                             2.8   \n",
            "4               0.9472                             9.7   \n",
            "\n",
            "   Population_No_High_School_Diploma  Number_of_Primary_Care_Physicians  \\\n",
            "0                             0.0468                               28.0   \n",
            "1                             0.0942                                2.0   \n",
            "2                             0.0131                               10.0   \n",
            "3                             0.0019                              244.0   \n",
            "4                             0.4164                               29.0   \n",
            "\n",
            "   Newly_Diagnosed  Crowding  Unemployed  Severe_Housing_Cost_Burden  \\\n",
            "0             10.1    0.2203      0.6376                   13.719953   \n",
            "1             11.3    0.0780      0.2745                    4.847397   \n",
            "2             11.1    0.1550      0.3121                   10.760741   \n",
            "3             10.4    0.1888      0.1245                   10.268725   \n",
            "4             24.0    0.5180      0.8611                   13.323770   \n",
            "\n",
            "   Overall_Household_Composition_&_Disability  \\\n",
            "0                                      0.2585   \n",
            "1                                      0.5046   \n",
            "2                                      0.1636   \n",
            "3                                      0.0678   \n",
            "4                                      0.8243   \n",
            "\n",
            "   Overall_Housing_Type_&_Transportation  \n",
            "0                                 0.3607  \n",
            "1                                 0.1649  \n",
            "2                                 0.3095  \n",
            "3                                 0.0376  \n",
            "4                                 0.6606  \n"
          ]
        }
      ]
    },
    {
      "cell_type": "code",
      "source": [
        "diabetes.info()"
      ],
      "metadata": {
        "colab": {
          "base_uri": "https://localhost:8080/"
        },
        "id": "PoJBWW_NkqDo",
        "outputId": "6d3f04c4-db04-465e-a8c7-a5d977dd12e9"
      },
      "execution_count": null,
      "outputs": [
        {
          "output_type": "stream",
          "name": "stdout",
          "text": [
            "<class 'pandas.core.frame.DataFrame'>\n",
            "RangeIndex: 3020 entries, 0 to 3019\n",
            "Data columns (total 18 columns):\n",
            " #   Column                                        Non-Null Count  Dtype  \n",
            "---  ------                                        --------------  -----  \n",
            " 0   State                                         3020 non-null   object \n",
            " 1   County                                        3020 non-null   object \n",
            " 2   CountyFIPS                                    3020 non-null   float64\n",
            " 3   Population_Aged_65_or_Older                   3020 non-null   float64\n",
            " 4   Population_Below_Poverty                      3020 non-null   float64\n",
            " 5   Population_Children_in_Poverty                3020 non-null   float64\n",
            " 6   Population_Enrolled_in_Free_or_Reduced_Lunch  3020 non-null   float64\n",
            " 7   Population_Food_Insecurity                    3020 non-null   float64\n",
            " 8   Population_Minority                           3020 non-null   float64\n",
            " 9   Population_No_Health_Insurance                3020 non-null   float64\n",
            " 10  Population_No_High_School_Diploma             3020 non-null   float64\n",
            " 11  Number_of_Primary_Care_Physicians             3020 non-null   float64\n",
            " 12  Newly_Diagnosed                               3020 non-null   float64\n",
            " 13  Crowding                                      3020 non-null   float64\n",
            " 14  Unemployed                                    3020 non-null   float64\n",
            " 15  Severe_Housing_Cost_Burden                    3020 non-null   float64\n",
            " 16  Overall_Household_Composition_&_Disability    3020 non-null   float64\n",
            " 17  Overall_Housing_Type_&_Transportation         3020 non-null   float64\n",
            "dtypes: float64(16), object(2)\n",
            "memory usage: 424.8+ KB\n"
          ]
        }
      ]
    },
    {
      "cell_type": "markdown",
      "metadata": {
        "id": "549iHLtVHMFo"
      },
      "source": [
        "### **Build a Base Model**\n"
      ]
    },
    {
      "cell_type": "code",
      "source": [
        "# Define feature and target variables\n",
        "X = diabetes.drop(columns=['Newly_Diagnosed'])\n",
        "y = diabetes['Newly_Diagnosed']\n",
        "\n",
        "# Define categorical and numerical features\n",
        "categorical_features = ['County', 'State']\n",
        "numerical_features = list(set(X.columns) - set(categorical_features))\n",
        "\n",
        "# Preprocessing pipelines for both numeric and categorical data\n",
        "numeric_transformer = StandardScaler()\n",
        "categorical_transformer = OneHotEncoder(handle_unknown='ignore')\n",
        "\n",
        "# Bundle preprocessing for numerical and categorical data\n",
        "preprocessor = ColumnTransformer(\n",
        "    transformers=[\n",
        "        ('num', numeric_transformer, numerical_features),\n",
        "        ('cat', categorical_transformer, categorical_features)])\n",
        "\n",
        "# Split the dataset into training and testing sets\n",
        "X_train, X_test, y_train, y_test = train_test_split(X, y, test_size=0.2, random_state=42)\n",
        "\n",
        "# Create a pipeline that pre-processes the data and then trains a linear regression model\n",
        "model = Pipeline(steps=[('preprocessor', preprocessor),\n",
        "                        ('regressor', LinearRegression())])\n",
        "\n",
        "# Train the model\n",
        "model.fit(X_train, y_train)\n",
        "\n",
        "# Make predictions using the model\n",
        "predictions = model.predict(X_test)\n",
        "\n",
        "# Evaluate the model\n",
        "mse = mean_squared_error(y_test, predictions)\n",
        "mae = mean_absolute_error(y_test, predictions)\n",
        "r2 = r2_score(y_test, predictions)\n",
        "\n",
        "# Display evaluation metrics\n",
        "print(\"Model Evaluation Metrics - Linear Regression:\")\n",
        "print(\"Mean Squared Error (MSE):\", mse)\n",
        "print(\"Mean Absolute Error (MAE):\", mae)\n",
        "print(\"R-squared (R2):\", r2)\n"
      ],
      "metadata": {
        "colab": {
          "base_uri": "https://localhost:8080/"
        },
        "id": "FtAhu_YNDqTI",
        "outputId": "0889e83f-6f86-4a0f-fd8b-b9647c9e2eef"
      },
      "execution_count": null,
      "outputs": [
        {
          "output_type": "stream",
          "name": "stdout",
          "text": [
            "Model Evaluation Metrics - Linear Regression:\n",
            "Mean Squared Error (MSE): 1951647.9459007524\n",
            "Mean Absolute Error (MAE): 686.6241509462784\n",
            "R-squared (R2): -0.17275772580032456\n"
          ]
        }
      ]
    },
    {
      "cell_type": "markdown",
      "source": [
        "**Key Observation:** The current performance of the linear regression model is unfortunately suboptimal. With high MSE and MAE values and a negative R-squared score, it's evident that the model struggles to accurately predict the number of \"Newly_Diagnosed\" diabetes cases. This suggests that the linear relationship assumed by this model might not be a suitable representation of the underlying data.\n",
        "\n",
        "**Next Steps for Enhancing Model Performance:**\n",
        "\n",
        "**Outlier Management:** Review the distribution of the target variable to identify potential outliers. These extreme values might be negatively impacting the model's predictive performance. Depending on the findings, techniques such as winsorization or log transformations could be implemented to moderate the outliers' influence.\n",
        "\n",
        "**Feature Engineering:** Investigate possibilities for further feature engineering. This process could include developing new variables that encapsulate existing ones' interactions or meaningful information, thus helping the model capture complex patterns more effectively.\n",
        "\n",
        "**Feature Selection:** Evaluate the impact of each predictor variable on the model. Correlation analysis or feature importance from tree-based models could be employed to identify key variables influencing the target prediction. Removing less impactful variables might enhance the model's performance by reducing potential noise.\n",
        "\n",
        "**Explore Alternative Models:** The nature of our dataset might not be best suited for a linear regression model. Thus, testing other models such as decision trees, random forests, or gradient boosting algorithms might be beneficial. These models can adapt to non-linear relationships more effectively.\n",
        "\n",
        "**Enhanced Model Evaluation and Validation:** Despite using a train-test split for the initial model evaluation, incorporating cross-validation techniques can provide a more robust understanding of the model's performance. Cross-validation allows us to obtain a more reliable estimate of how well our model will generalize to unseen data.\n",
        "\n",
        "**Hyperparameter Tuning:** Fine-tuning the chosen models' hyperparameters using methods like grid search or randomized search might optimize the models' performance. This can lead to a substantial improvement in predictive accuracy.\n",
        "\n",
        "Leveraging Ensemble Methods: Implementing ensemble methods, such as bagging, boosting, or stacking, can help achieve more accurate predictions by combining the strengths of different models. These techniques work by integrating the outputs of multiple models, therefore improving the overall prediction accuracy.\n"
      ],
      "metadata": {
        "id": "5lqrHOANdV4q"
      }
    },
    {
      "cell_type": "markdown",
      "source": [
        "### **Calculate and Visualize Outliers**"
      ],
      "metadata": {
        "id": "Q0U8DkLx3PTg"
      }
    },
    {
      "cell_type": "code",
      "source": [
        "# Calculating IQR\n",
        "Q1 = diabetes['Newly_Diagnosed'].quantile(0.25)\n",
        "Q3 = diabetes['Newly_Diagnosed'].quantile(0.75)\n",
        "IQR = Q3 - Q1\n",
        "\n",
        "# Identifying outliers\n",
        "outliers = diabetes[(diabetes['Newly_Diagnosed'] < Q1 - 1.5 * IQR) | (diabetes['Newly_Diagnosed'] > Q3 + 1.5 * IQR)]\n",
        "print(\"Number of outliers detected: \", len(outliers))"
      ],
      "metadata": {
        "colab": {
          "base_uri": "https://localhost:8080/"
        },
        "id": "fyOOhJJtvwVZ",
        "outputId": "794c5ceb-eae1-4e9f-97b6-59ea417c5716"
      },
      "execution_count": null,
      "outputs": [
        {
          "output_type": "stream",
          "name": "stdout",
          "text": [
            "Number of outliers detected:  360\n"
          ]
        }
      ]
    },
    {
      "cell_type": "code",
      "source": [
        "import matplotlib.pyplot as plt\n",
        "\n",
        "# Create a boxplot\n",
        "sns.boxplot(x=diabetes['Newly_Diagnosed'])\n",
        "plt.title('Boxplot of Newly Diagnosed Cases')\n",
        "plt.show()"
      ],
      "metadata": {
        "colab": {
          "base_uri": "https://localhost:8080/",
          "height": 472
        },
        "id": "4VJtHAEVv1qB",
        "outputId": "3b1634b6-6278-404e-cf5d-4a57f1bde1c7"
      },
      "execution_count": null,
      "outputs": [
        {
          "output_type": "display_data",
          "data": {
            "text/plain": [
              "<Figure size 640x480 with 1 Axes>"
            ],
            "image/png": "[encoded data removed]"
          },
          "metadata": {}
        }
      ]
    },
    {
      "cell_type": "markdown",
      "source": [
        "**Key Observation:** There are 360 outliers detected in the \"Newly_Diagnosed\" column. This suggests that these data points are significantly different from the rest and might affect the performance of the model negatively, causing it to overfit or underfit.\n",
        "\n",
        "**Outlier Management:** I will apply a log transformation as the target variable (\"Newly_Diagnosed\") looks heavily skewed."
      ],
      "metadata": {
        "id": "UbOVZn3-ynYL"
      }
    },
    {
      "cell_type": "code",
      "source": [
        "import numpy as np\n",
        "y_log = np.log1p(y)"
      ],
      "metadata": {
        "id": "sHGe-rk40C64"
      },
      "execution_count": null,
      "outputs": []
    },
    {
      "cell_type": "markdown",
      "source": [
        "**Re-examining data distribution after a log transformation is applied**"
      ],
      "metadata": {
        "id": "pEvmb8Ny0ekB"
      }
    },
    {
      "cell_type": "code",
      "source": [
        "# Summary statistics\n",
        "outlier_stats_log = y_log.describe()\n",
        "print(outlier_stats_log)\n",
        "\n",
        "# Histogram\n",
        "sns.histplot(y_log, kde=True)\n",
        "plt.title('Histogram of Log-transformed Newly Diagnosed Cases')\n",
        "plt.show()\n",
        "\n",
        "# Boxplot\n",
        "sns.boxplot(x=y_log)\n",
        "plt.title('Boxplot of Log-transformed Newly Diagnosed Cases')\n",
        "plt.show()\n",
        "\n",
        "# Outliers detection\n",
        "Q1_log = y_log.quantile(0.25)\n",
        "Q3_log = y_log.quantile(0.75)\n",
        "IQR_log = Q3_log - Q1_log\n",
        "\n",
        "# Identifying outliers\n",
        "outliers_log = y_log[(y_log < Q1_log - 1.5 * IQR_log) | (y_log > Q3_log + 1.5 * IQR_log)]\n",
        "print(\"Number of outliers detected after log transformation: \", len(outliers_log))"
      ],
      "metadata": {
        "colab": {
          "base_uri": "https://localhost:8080/",
          "height": 1000
        },
        "id": "rPoYierd1HjC",
        "outputId": "4c213716-f7f2-4c96-b175-c9b5bc8040a3"
      },
      "execution_count": null,
      "outputs": [
        {
          "output_type": "stream",
          "name": "stdout",
          "text": [
            "count    3020.000000\n",
            "mean        5.350725\n",
            "std         1.330749\n",
            "min         2.406945\n",
            "25%         4.439116\n",
            "50%         5.279389\n",
            "75%         6.170290\n",
            "max         9.629485\n",
            "Name: Newly_Diagnosed, dtype: float64\n"
          ]
        },
        {
          "output_type": "display_data",
          "data": {
            "text/plain": [
              "<Figure size 640x480 with 1 Axes>"
            ],
            "image/png": "[encoded data removed]"
          },
          "metadata": {}
        },
        {
          "output_type": "display_data",
          "data": {
            "text/plain": [
              "<Figure size 640x480 with 1 Axes>"
            ],
            "image/png": "[encoded data removed]"
          },
          "metadata": {}
        },
        {
          "output_type": "stream",
          "name": "stdout",
          "text": [
            "Number of outliers detected after log transformation:  25\n"
          ]
        }
      ]
    },
    {
      "cell_type": "markdown",
      "source": [
        "**Key Observation:** After the log transformation, it seems that the 'Newly_Diagnosed' data is now more normally distributed, as indicated by the histogram. However, the descriptive statistics and boxplot still suggest a degree of skewness and presence of outliers.\n",
        "\n",
        "**Next Steps:** Given that the log transformation has somewhat normalized the data, ˆ will now proceed to modeling."
      ],
      "metadata": {
        "id": "vBB1rRfk2svY"
      }
    },
    {
      "cell_type": "code",
      "source": [
        "# Define feature and target variables\n",
        "X = diabetes.drop(columns=['Newly_Diagnosed'])\n",
        "y = np.log1p(diabetes['Newly_Diagnosed']) # Apply log transformation using np.log1p for better handling of 0s\n",
        "\n",
        "# Split the dataset into training and testing sets\n",
        "X_train, X_test, y_train, y_test = train_test_split(X, y, test_size=0.2, random_state=42)"
      ],
      "metadata": {
        "id": "c3gr0n8X2qXl"
      },
      "execution_count": null,
      "outputs": []
    },
    {
      "cell_type": "code",
      "source": [
        "from sklearn.tree import DecisionTreeRegressor\n",
        "from sklearn.ensemble import RandomForestRegressor, GradientBoostingRegressor\n",
        "\n",
        "# Create a list of tuples where each tuple represents a model\n",
        "models = [\n",
        "    (\"Linear Regression\", LinearRegression()),\n",
        "    (\"Decision Tree\", DecisionTreeRegressor(random_state=42)),\n",
        "    (\"Random Forest\", RandomForestRegressor(random_state=42)),\n",
        "    (\"Gradient Boosting\", GradientBoostingRegressor(random_state=42)),\n",
        "]\n",
        "\n",
        "rf_model = None\n",
        "gb_model = None\n",
        "\n",
        "# Loop through the list of models\n",
        "for name, model in models:\n",
        "    # Create a pipeline that pre-processes the data and then trains a model\n",
        "    pipeline = Pipeline(steps=[('preprocessor', preprocessor), (name, model)])\n",
        "\n",
        "    # Train the model\n",
        "    pipeline.fit(X_train, y_train)\n",
        "\n",
        "    # Store trained models of Random Forest and Gradient Boosting for further use\n",
        "    if name == \"Random Forest\":\n",
        "        rf_model = model\n",
        "    elif name == \"Gradient Boosting\":\n",
        "        gb_model = model\n",
        "\n",
        "    # Make predictions using the model\n",
        "    predictions = pipeline.predict(X_test)\n",
        "\n",
        "    # Back-transform the predictions and y_test\n",
        "    predictions_exp = np.expm1(predictions)\n",
        "    y_test_exp = np.expm1(y_test)\n",
        "\n",
        "    # Evaluate the model\n",
        "    mse = mean_squared_error(y_test_exp, predictions_exp)\n",
        "    mae = mean_absolute_error(y_test_exp, predictions_exp)\n",
        "    r2 = r2_score(y_test_exp, predictions_exp)\n",
        "\n",
        "    # Display evaluation metrics\n",
        "    print(f\"Model Evaluation Metrics - {name}:\")\n",
        "    print(\"Mean Squared Error (MSE):\", mse)\n",
        "    print(\"Mean Absolute Error (MAE):\", mae)\n",
        "    print(\"R-squared (R2):\", r2)\n",
        "    print(\"\\n\")"
      ],
      "metadata": {
        "colab": {
          "base_uri": "https://localhost:8080/"
        },
        "id": "1Ix9xiPv2r2m",
        "outputId": "2be7b547-bbd6-4c94-d8fd-23f8848cfc2b"
      },
      "execution_count": null,
      "outputs": [
        {
          "output_type": "stream",
          "name": "stdout",
          "text": [
            "Model Evaluation Metrics - Linear Regression:\n",
            "Mean Squared Error (MSE): 2072143.5424365832\n",
            "Mean Absolute Error (MAE): 498.7794294254027\n",
            "R-squared (R2): -0.24516429997735667\n",
            "\n",
            "\n",
            "Model Evaluation Metrics - Decision Tree:\n",
            "Mean Squared Error (MSE): 2145511.3985430454\n",
            "Mean Absolute Error (MAE): 608.3201986754965\n",
            "R-squared (R2): -0.2892515136856406\n",
            "\n",
            "\n",
            "Model Evaluation Metrics - Random Forest:\n",
            "Mean Squared Error (MSE): 1582123.845489552\n",
            "Mean Absolute Error (MAE): 420.66738192175706\n",
            "R-squared (R2): 0.04929166816792918\n",
            "\n",
            "\n",
            "Model Evaluation Metrics - Gradient Boosting:\n",
            "Mean Squared Error (MSE): 1570723.7938725203\n",
            "Mean Absolute Error (MAE): 409.6589926874549\n",
            "R-squared (R2): 0.0561420320547551\n",
            "\n",
            "\n"
          ]
        }
      ]
    },
    {
      "cell_type": "markdown",
      "source": [
        "**Key Observations:**\n",
        "\n",
        "* All models are performing better on the transformed target data compared to the initial linear regression model on the untransformed data. This suggests that the transformation helped in improving the models' performance. However, all models still show quite high MSE and MAE, and relatively low R-squared values, indicating that the prediction performance is still not very strong. Gradient Boosting and Random Forest regressors perform better.\n",
        "\n",
        "\n",
        "**Next Steps:**\n",
        "\n",
        "**Feature Importance:** I will use the Random Forest and Gradient Boosting to evaluate the importance of the different features.\n",
        "\n",
        "**Hyperparameter Tuning:** Perform hyperparameter tuning on the Random Forest and Gradient Boosting models. I will use GridSearchCV or RandomizedSearchCV for this purpose."
      ],
      "metadata": {
        "id": "eLHxE5zP44JO"
      }
    },
    {
      "cell_type": "code",
      "source": [
        "# Fit and transform the data using preprocessor\n",
        "X_transformed = preprocessor.fit_transform(X_train)\n",
        "\n",
        "# Get feature names after transformation\n",
        "transformed_feature_names = preprocessor.get_feature_names_out()\n",
        "\n",
        "# Calculate feature importance for Random Forest\n",
        "rf_importances = rf_model.feature_importances_\n",
        "rf_feature_importance = pd.DataFrame({'Feature': transformed_feature_names, 'Importance': rf_importances})\n",
        "rf_feature_importance.sort_values(by='Importance', ascending=False, inplace=True)\n",
        "\n",
        "# Calculate feature importance for Gradient Boosting\n",
        "gb_importances = gb_model.feature_importances_\n",
        "gb_feature_importance = pd.DataFrame({'Feature': transformed_feature_names, 'Importance': gb_importances})\n",
        "gb_feature_importance.sort_values(by='Importance', ascending=False, inplace=True)\n",
        "\n",
        "# Print the feature importances\n",
        "print(\"Random Forest feature importances:\\n\", rf_feature_importance)\n",
        "print(\"Gradient Boosting feature importances:\\n\", gb_feature_importance)"
      ],
      "metadata": {
        "colab": {
          "base_uri": "https://localhost:8080/"
        },
        "id": "bvLXBBGG2sDJ",
        "outputId": "495d79bf-01e5-4b52-a709-520112c47c2f"
      },
      "execution_count": null,
      "outputs": [
        {
          "output_type": "stream",
          "name": "stdout",
          "text": [
            "Random Forest feature importances:\n",
            "                                      Feature  Importance\n",
            "7     num__Population_No_High_School_Diploma    0.171836\n",
            "3        num__Population_Children_in_Poverty    0.100101\n",
            "8            num__Population_Food_Insecurity    0.067682\n",
            "12           num__Severe_Housing_Cost_Burden    0.058452\n",
            "14                           num__CountyFIPS    0.054088\n",
            "...                                      ...         ...\n",
            "1102                 cat__County_Pine County    0.000000\n",
            "289             cat__County_Clackamas County    0.000000\n",
            "135             cat__County_Bienville Parish    0.000000\n",
            "211              cat__County_Callahan County    0.000000\n",
            "999                cat__County_Nobles County    0.000000\n",
            "\n",
            "[1604 rows x 2 columns]\n",
            "Gradient Boosting feature importances:\n",
            "                                      Feature  Importance\n",
            "7     num__Population_No_High_School_Diploma    0.209933\n",
            "3        num__Population_Children_in_Poverty    0.128056\n",
            "14                           num__CountyFIPS    0.127594\n",
            "8            num__Population_Food_Insecurity    0.113273\n",
            "1567                     cat__State_Illinois    0.057472\n",
            "...                                      ...         ...\n",
            "583               cat__County_Grenada County    0.000000\n",
            "582               cat__County_Gregory County    0.000000\n",
            "581                 cat__County_Gregg County    0.000000\n",
            "580             cat__County_Greenwood County    0.000000\n",
            "802              cat__County_Le Flore County    0.000000\n",
            "\n",
            "[1604 rows x 2 columns]\n"
          ]
        }
      ]
    },
    {
      "cell_type": "markdown",
      "source": [
        "**Select top 10 features and use them for model training and evaluation**"
      ],
      "metadata": {
        "id": "xhKnOfOV_y-k"
      }
    },
    {
      "cell_type": "code",
      "source": [
        "# Select top N features from each model's feature importances\n",
        "N = 10\n",
        "selected_features_rf = rf_feature_importance['Feature'].str.replace('num__', '').str.replace('cat__', '').head(N).tolist()\n",
        "selected_features_gb = gb_feature_importance['Feature'].str.replace('num__', '').str.replace('cat__', '').head(N).tolist()\n",
        "\n",
        "# Union of both lists\n",
        "selected_features = list(set(selected_features_rf + selected_features_gb))\n",
        "\n",
        "# Remove any feature name that is not present in the dataset columns\n",
        "selected_features = [feature for feature in selected_features if feature in X_train.columns]\n",
        "\n",
        "# Now use only these selected features for training and testing\n",
        "X_train_selected = X_train[selected_features]\n",
        "X_test_selected = X_test[selected_features]"
      ],
      "metadata": {
        "id": "E06UuggL2sKb"
      },
      "execution_count": null,
      "outputs": []
    },
    {
      "cell_type": "code",
      "source": [
        "# Define the models\n",
        "rf_model = RandomForestRegressor(random_state=42)\n",
        "gb_model = GradientBoostingRegressor(random_state=42)\n",
        "\n",
        "# Train the models\n",
        "rf_model.fit(X_train_selected, y_train)\n",
        "gb_model.fit(X_train_selected, y_train)\n",
        "\n",
        "# Make predictions\n",
        "rf_predictions = rf_model.predict(X_test_selected)\n",
        "gb_predictions = gb_model.predict(X_test_selected)\n",
        "\n",
        "# Calculate evaluation metrics\n",
        "rf_mse = mean_squared_error(y_test, rf_predictions)\n",
        "rf_mae = mean_absolute_error(y_test, rf_predictions)\n",
        "rf_r2 = r2_score(y_test, rf_predictions)\n",
        "\n",
        "gb_mse = mean_squared_error(y_test, gb_predictions)\n",
        "gb_mae = mean_absolute_error(y_test, gb_predictions)\n",
        "gb_r2 = r2_score(y_test, gb_predictions)\n",
        "\n",
        "# Print the evaluation metrics\n",
        "print(\"Random Forest:\")\n",
        "print(\"MSE:\", rf_mse)\n",
        "print(\"MAE:\", rf_mae)\n",
        "print(\"R2:\", rf_r2)\n",
        "\n",
        "print(\"Gradient Boosting:\")\n",
        "print(\"MSE:\", gb_mse)\n",
        "print(\"MAE:\", gb_mae)\n",
        "print(\"R2:\", gb_r2)\n"
      ],
      "metadata": {
        "id": "baG4BvhDXBVd",
        "colab": {
          "base_uri": "https://localhost:8080/"
        },
        "outputId": "eb0a89d6-7af0-4737-8517-90fa0fabd207"
      },
      "execution_count": null,
      "outputs": [
        {
          "output_type": "stream",
          "name": "stdout",
          "text": [
            "Random Forest:\n",
            "MSE: 1.241345812619919\n",
            "MAE: 0.8747008020959283\n",
            "R2: 0.30047792495205927\n",
            "Gradient Boosting:\n",
            "MSE: 1.1504150866952314\n",
            "MAE: 0.835168717534723\n",
            "R2: 0.3517191257824751\n"
          ]
        }
      ]
    },
    {
      "cell_type": "markdown",
      "source": [
        "**Key observations:**\n",
        "\n",
        "* Both Random Forest and Gradient Boosting models have shown improvement in terms of MSE, MAE, and R2 compared to the previous models.\n",
        "* The MSE and MAE values have decreased, indicating better accuracy in predicting the target variable.\n",
        "* The R2 values have increased, suggesting that a larger portion of the variance in the target variable is explained by the selected features.\n",
        "\n",
        "**Next steps:**\n",
        "\n",
        "* **Performing hyperparameter tuning.** Adjusting the hyperparameters of the Random Forest and Gradient Boosting models can potentially enhance their performance."
      ],
      "metadata": {
        "id": "970bw64UCpZo"
      }
    },
    {
      "cell_type": "markdown",
      "source": [
        "### **Hyperparameter Tuning and Feature Selection**"
      ],
      "metadata": {
        "id": "hz9AM-fo1GZD"
      }
    },
    {
      "cell_type": "markdown",
      "source": [
        "In order to optimize the performance of my predictive model for newly diagnosed diabetes, I will focus on two key strategies: reducing the parameter grid and prioritizing important hyperparameters. By reducing the parameter grid, I aim to limit the number of hyperparameter combinations to explore during the tuning process, ensuring computational efficiency. Additionally, by prioritizing important hyperparameters based on my domain knowledge and the specific goal of the model, I can allocate my resources to the most influential factors, leading to more accurate predictions. Let's implement these strategies to fine-tune my model and improve its performance."
      ],
      "metadata": {
        "id": "gh4raYP91MnN"
      }
    },
    {
      "cell_type": "code",
      "source": [
        "from sklearn.model_selection import RandomizedSearchCV\n",
        "from sklearn.ensemble import RandomForestRegressor\n",
        "from scipy.stats import randint\n",
        "\n",
        "# Define the parameter grid for Random Forest\n",
        "param_grid = {\n",
        "    'n_estimators': randint(100, 500),\n",
        "    'max_depth': [5, 10, 15, None],\n",
        "    'min_samples_split': randint(2, 10),\n",
        "    'min_samples_leaf': randint(1, 5),\n",
        "    'max_features': ['sqrt', 'log2']\n",
        "}\n",
        "\n",
        "# Create a RandomizedSearchCV object\n",
        "rf_random_search = RandomizedSearchCV(\n",
        "    estimator=RandomForestRegressor(random_state=42),\n",
        "    param_distributions=param_grid,\n",
        "    n_iter=10,  # Number of parameter settings that are sampled\n",
        "    scoring='neg_mean_squared_error',\n",
        "    cv=5,\n",
        "    random_state=42,\n",
        "    n_jobs=-1\n",
        ")\n",
        "\n",
        "# Define the reduced feature set\n",
        "selected_features = ['Population_Aged_65_or_Older', 'Population_Below_Poverty', 'Population_Children_in_Poverty',\n",
        "                     'Population_Enrolled_in_Free_or_Reduced_Lunch', 'Population_Food_Insecurity',\n",
        "                     'Population_Minority', 'Population_No_Health_Insurance', 'Population_No_High_School_Diploma',\n",
        "                     'Number_of_Primary_Care_Physicians']\n",
        "\n",
        "\n",
        "\n",
        "# Use only the selected features for training\n",
        "X_train_selected = X_train[selected_features]\n",
        "\n",
        "# Perform randomized search\n",
        "rf_random_search.fit(X_train_selected, y_train)\n",
        "\n",
        "# Get the best hyperparameters and model\n",
        "best_params = rf_random_search.best_params_\n",
        "best_model = rf_random_search.best_estimator_\n",
        "\n",
        "# Print the best hyperparameters\n",
        "print(\"Best Hyperparameters:\", best_params)"
      ],
      "metadata": {
        "colab": {
          "base_uri": "https://localhost:8080/"
        },
        "id": "OHqOfFn20-tU",
        "outputId": "cc70d11b-c5b6-44c8-e8a8-e70bdd2db4ba"
      },
      "execution_count": null,
      "outputs": [
        {
          "output_type": "stream",
          "name": "stdout",
          "text": [
            "Best Hyperparameters: {'max_depth': 10, 'max_features': 'log2', 'min_samples_leaf': 4, 'min_samples_split': 6, 'n_estimators': 260}\n"
          ]
        }
      ]
    },
    {
      "cell_type": "markdown",
      "source": [
        "**Key observation:** The hyperparameter tuning process has identified the best hyperparameters for the Random Forest model. The best hyperparameters are as follows: {'max_depth': 10, 'max_features': 'log2', 'min_samples_leaf': 4, 'min_samples_split': 6, 'n_estimators': 260}. These hyperparameters were selected based on their ability to optimize the model's performance in predicting newly diagnosed diabetes.\n",
        "\n",
        "**Next step:** Train the Random Forest model using the best hyperparameters and evaluate its performance to assess its accuracy in predicting newly diagnosed diabetes. Additionally, analyze the feature importances to gain insights into the most influential factors and consider further model improvements based on the evaluation results and feature importance analysis."
      ],
      "metadata": {
        "id": "hjjKLuFA3gFD"
      }
    },
    {
      "cell_type": "code",
      "source": [
        "# Train the Random Forest model with the best hyperparameters\n",
        "best_rf_model = RandomForestRegressor(max_depth=10, max_features='log2', min_samples_leaf=4, min_samples_split=6, n_estimators=260, random_state=42)\n",
        "best_rf_model.fit(X_train_selected, y_train)\n",
        "\n",
        "# Select the same features in the test set\n",
        "X_test_selected = X_test[selected_features]\n",
        "\n",
        "# Make predictions using the trained model\n",
        "predictions = best_rf_model.predict(X_test_selected)\n",
        "\n",
        "# Evaluate the model\n",
        "mse = mean_squared_error(y_test, predictions)\n",
        "mae = mean_absolute_error(y_test, predictions)\n",
        "r2 = r2_score(y_test, predictions)\n",
        "\n",
        "# Display evaluation metrics\n",
        "print(\"Model Evaluation Metrics - Random Forest (Best Hyperparameters):\")\n",
        "print(\"Mean Squared Error (MSE):\", mse)\n",
        "print(\"Mean Absolute Error (MAE):\", mae)\n",
        "print(\"R-squared (R2):\", r2)"
      ],
      "metadata": {
        "colab": {
          "base_uri": "https://localhost:8080/"
        },
        "id": "FAjfTsZMDayJ",
        "outputId": "28cd2fcc-031e-4034-fec1-bcc6d120f270"
      },
      "execution_count": null,
      "outputs": [
        {
          "output_type": "stream",
          "name": "stdout",
          "text": [
            "Model Evaluation Metrics - Random Forest (Best Hyperparameters):\n",
            "Mean Squared Error (MSE): 1.2848090811981188\n",
            "Mean Absolute Error (MAE): 0.8872136461966615\n",
            "R-squared (R2): 0.2759855429622088\n"
          ]
        }
      ]
    },
    {
      "cell_type": "markdown",
      "source": [
        "\n",
        "**Key Observation:** Comparing the two results, both the Random Forest model with the best hyperparameters and the Gradient Boosting model show similar performance in terms of MSE, MAE, and R2. However, the Gradient Boosting model has shown relatively better performance in terms of R2, indicating a better ability to explain the variance in the target variable.\n",
        "\n",
        "**Next Steps:**\n",
        "\n",
        "* Analyze other evaluation metrics: Besides MSE, MAE, and R2, consider additional evaluation metrics such as accuracy, precision, recall, or F1-score, depending on the specific problem and dataset. These metrics can provide a more comprehensive understanding of model performance and its ability to correctly classify and predict newly diagnosed diabetes cases.\n",
        "\n",
        "* Explore other models: If the performance of the Random Forest model is not satisfactory, consider exploring other models such as Gradient Boosting, which has shown relatively better performance in the previous result. Experiment with different models to find the one that best captures the complex relationships in the data and provides accurate predictions."
      ],
      "metadata": {
        "id": "-jO57aQ861-l"
      }
    },
    {
      "cell_type": "code",
      "source": [
        "# Define selected features\n",
        "selected_features = ['Population_Aged_65_or_Older', 'Population_Below_Poverty',\n",
        "                     'Population_Children_in_Poverty',\n",
        "                     'Population_Enrolled_in_Free_or_Reduced_Lunch',\n",
        "                     'Population_Food_Insecurity',\n",
        "                     'Population_Minority', 'Population_No_Health_Insurance',\n",
        "                     'Population_No_High_School_Diploma',\n",
        "                     'Number_of_Primary_Care_Physicians']\n",
        "\n",
        "# Now use only these selected features for training and testing\n",
        "X_train_selected = X_train[selected_features]\n",
        "X_test_selected = X_test[selected_features]\n",
        "\n",
        "# Define the models\n",
        "models = [\n",
        "    (\"Random Forest\", RandomForestRegressor(random_state=42)),\n",
        "    (\"Gradient Boosting\", GradientBoostingRegressor(random_state=42)),\n",
        "]\n",
        "\n",
        "# Initialize empty dictionaries to store the metric scores for regression metrics\n",
        "metric_scores = {'mse': [], 'mae': [], 'r2': []}\n",
        "\n",
        "# Loop through the models and calculate the evaluation metrics\n",
        "for name, model in models:\n",
        "    # Create a pipeline that pre-processes the data and then trains a model\n",
        "    pipeline = Pipeline(steps=[('preprocessor', numeric_transformer), (name, model)])\n",
        "\n",
        "    # Train the model\n",
        "    pipeline.fit(X_train_selected, y_train)\n",
        "\n",
        "    # Make predictions using the model\n",
        "    predictions = pipeline.predict(X_test_selected)\n",
        "\n",
        "    # Calculate the evaluation metrics\n",
        "    metric_scores['mse'].append(mean_squared_error(y_test, predictions))\n",
        "    metric_scores['mae'].append(mean_absolute_error(y_test, predictions))\n",
        "    metric_scores['r2'].append(r2_score(y_test, predictions))\n",
        "\n",
        "# Convert the metric scores to a DataFrame\n",
        "metric_scores_df = pd.DataFrame(metric_scores, index=[name for name, _ in models])\n",
        "\n",
        "# Plot the metric scores\n",
        "metric_scores_df.plot(kind='bar', figsize=(8, 6))\n",
        "plt.title('Evaluation Metrics Comparison')\n",
        "plt.xlabel('Model')\n",
        "plt.ylabel('Score')\n",
        "plt.xticks(rotation=45)\n",
        "plt.legend(loc='lower right')\n",
        "plt.show()"
      ],
      "metadata": {
        "colab": {
          "base_uri": "https://localhost:8080/",
          "height": 649
        },
        "id": "vDQNJKi2WS7a",
        "outputId": "c4780eea-dd87-4833-ba3a-ac694e3089ea"
      },
      "execution_count": null,
      "outputs": [
        {
          "output_type": "display_data",
          "data": {
            "text/plain": [
              "<Figure size 800x600 with 1 Axes>"
            ],
            "image/png": "[encoded data removed]"
          },
          "metadata": {}
        }
      ]
    },
    {
      "cell_type": "code",
      "source": [
        "from sklearn.ensemble import GradientBoostingRegressor\n",
        "\n",
        "# Define the Gradient Boosting model with hyperparameters of your choice\n",
        "gb_model = GradientBoostingRegressor(n_estimators=100, learning_rate=0.1, max_depth=5, random_state=42)\n",
        "\n",
        "# Create a pipeline that pre-processes the data and then trains a Gradient Boosting model\n",
        "pipeline = Pipeline(steps=[('preprocessor', numeric_transformer),\n",
        "                           ('regressor', gb_model)])\n",
        "\n",
        "# Train the model\n",
        "pipeline.fit(X_train_selected, y_train)\n",
        "\n",
        "# Make predictions using the model\n",
        "predictions = pipeline.predict(X_test_selected)\n",
        "\n",
        "# Calculate the evaluation metrics\n",
        "mse = mean_squared_error(y_test, predictions)\n",
        "mae = mean_absolute_error(y_test, predictions)\n",
        "r2 = r2_score(y_test, predictions)\n",
        "\n",
        "# Display evaluation metrics\n",
        "print(\"Model Evaluation Metrics - Gradient Boosting:\")\n",
        "print(\"Mean Squared Error (MSE):\", mse)\n",
        "print(\"Mean Absolute Error (MAE):\", mae)\n",
        "print(\"R-squared (R2):\", r2)"
      ],
      "metadata": {
        "colab": {
          "base_uri": "https://localhost:8080/"
        },
        "id": "mmVE3RA8XInr",
        "outputId": "fe252831-c4f3-4685-82c2-ca629c2c6ec0"
      },
      "execution_count": null,
      "outputs": [
        {
          "output_type": "stream",
          "name": "stdout",
          "text": [
            "Model Evaluation Metrics - Gradient Boosting:\n",
            "Mean Squared Error (MSE): 1.3129025557421132\n",
            "Mean Absolute Error (MAE): 0.8962381179638534\n",
            "R-squared (R2): 0.26015433347285233\n"
          ]
        }
      ]
    },
    {
      "cell_type": "markdown",
      "source": [
        "## **Ensemble Modeling: Stacking**\n",
        "\n",
        "While both Random Forest and Gradient Boosting models have shown decent performance in predicting \"Newly_Diagnosed\" diabetes cases, our objective is to further enhance the predictive accuracy. To achieve this, we will explore ensemble modeling techniques, specifically stacking. By combining the strengths of different models, stacking allows for a more comprehensive and nuanced understanding of the data, which can potentially lead to improved accuracy in predicting diabetes cases."
      ],
      "metadata": {
        "id": "_4arRob8bB7X"
      }
    },
    {
      "cell_type": "code",
      "source": [
        "from sklearn.ensemble import StackingRegressor\n",
        "from sklearn.linear_model import LinearRegression\n",
        "\n",
        "# Define the base models\n",
        "base_models = [\n",
        "    ('random_forest', RandomForestRegressor(random_state=42, **best_params)),\n",
        "    ('gradient_boosting', GradientBoostingRegressor(n_estimators=100, learning_rate=0.1, max_depth=5, random_state=42))\n",
        "]\n",
        "\n",
        "# Define the meta model\n",
        "meta_model = LinearRegression()\n",
        "\n",
        "# Define the stacking model\n",
        "stacking_model = StackingRegressor(estimators=base_models, final_estimator=meta_model)\n",
        "\n",
        "# Train the stacking model\n",
        "stacking_model.fit(X_train_selected, y_train)\n",
        "\n",
        "# Make predictions with the stacking model\n",
        "predictions = stacking_model.predict(X_test_selected)\n",
        "\n",
        "# Calculate the evaluation metrics\n",
        "mse = mean_squared_error(y_test, predictions)\n",
        "mae = mean_absolute_error(y_test, predictions)\n",
        "r2 = r2_score(y_test, predictions)\n",
        "\n",
        "# Display evaluation metrics\n",
        "print(\"Model Evaluation Metrics - Stacking:\")\n",
        "print(\"Mean Squared Error (MSE):\", mse)\n",
        "print(\"Mean Absolute Error (MAE):\", mae)\n",
        "print(\"R-squared (R2):\", r2)"
      ],
      "metadata": {
        "colab": {
          "base_uri": "https://localhost:8080/"
        },
        "id": "4h3-33UwZY8t",
        "outputId": "e6ff8e51-8a99-4dc4-84a2-3ee7c80afaaf"
      },
      "execution_count": null,
      "outputs": [
        {
          "output_type": "stream",
          "name": "stdout",
          "text": [
            "Model Evaluation Metrics - Stacking:\n",
            "Mean Squared Error (MSE): 1.276305580687965\n",
            "Mean Absolute Error (MAE): 0.8840778692993445\n",
            "R-squared (R2): 0.28077742791607163\n"
          ]
        }
      ]
    },
    {
      "cell_type": "code",
      "source": [
        "from sklearn.preprocessing import PolynomialFeatures\n",
        "\n",
        "# Create polynomial features\n",
        "poly_features = PolynomialFeatures(degree=2, include_bias=False)\n",
        "\n",
        "# Transform the selected features\n",
        "X_train_poly = poly_features.fit_transform(X_train_selected)\n",
        "X_test_poly = poly_features.transform(X_test_selected)\n",
        "\n",
        "# Define the models\n",
        "models = [\n",
        "    (\"Random Forest\", RandomForestRegressor(random_state=42)),\n",
        "    (\"Gradient Boosting\", GradientBoostingRegressor(random_state=42)),\n",
        "]\n",
        "\n",
        "# Initialize empty dictionaries to store the metric scores for regression metrics\n",
        "metric_scores = {'mse': [], 'mae': [], 'r2': []}\n",
        "\n",
        "# Loop through the models and calculate the evaluation metrics\n",
        "for name, model in models:\n",
        "    # Create a pipeline that pre-processes the data and then trains a model\n",
        "    pipeline = Pipeline(steps=[('preprocessor', numeric_transformer), (name, model)])\n",
        "\n",
        "    # Train the model on polynomial features\n",
        "    pipeline.fit(X_train_poly, y_train)\n",
        "\n",
        "    # Make predictions using the model on polynomial features\n",
        "    predictions = pipeline.predict(X_test_poly)\n",
        "\n",
        "    # Calculate the evaluation metrics\n",
        "    mse = mean_squared_error(y_test, predictions)\n",
        "    mae = mean_absolute_error(y_test, predictions)\n",
        "    r2 = r2_score(y_test, predictions)\n",
        "\n",
        "    # Store the metric scores\n",
        "    metric_scores['mse'].append(mse)\n",
        "    metric_scores['mae'].append(mae)\n",
        "    metric_scores['r2'].append(r2)\n",
        "\n",
        "# Convert the metric scores to a DataFrame\n",
        "metric_scores_df = pd.DataFrame(metric_scores, index=[name for name, _ in models])\n",
        "\n",
        "# Plot the metric scores\n",
        "metric_scores_df.plot(kind='bar', figsize=(8, 6))\n",
        "plt.title('Evaluation Metrics Comparison - Ensemble with Polynomial Features')\n",
        "plt.xlabel('Model')\n",
        "plt.ylabel('Score')\n",
        "plt.xticks(rotation=45)\n",
        "plt.legend(loc='lower right')\n",
        "plt.show()\n",
        "\n",
        "# Display the evaluation metrics\n",
        "print(\"Model Evaluation Metrics - Ensemble with Polynomial Features:\")\n",
        "print(\"Mean Squared Error (MSE):\", metric_scores_df['mse'])\n",
        "print(\"Mean Absolute Error (MAE):\", metric_scores_df['mae'])\n",
        "print(\"R-squared (R2):\", metric_scores_df['r2'])"
      ],
      "metadata": {
        "colab": {
          "base_uri": "https://localhost:8080/",
          "height": 823
        },
        "id": "Gz48o72Lbj63",
        "outputId": "be13619f-5a64-4f33-f04a-6c5a8351f889"
      },
      "execution_count": null,
      "outputs": [
        {
          "output_type": "display_data",
          "data": {
            "text/plain": [
              "<Figure size 800x600 with 1 Axes>"
            ],
            "image/png": "[encoded data removed]"
          },
          "metadata": {}
        },
        {
          "output_type": "stream",
          "name": "stdout",
          "text": [
            "Model Evaluation Metrics - Ensemble with Polynomial Features:\n",
            "Mean Squared Error (MSE): Random Forest        1.298738\n",
            "Gradient Boosting    1.291258\n",
            "Name: mse, dtype: float64\n",
            "Mean Absolute Error (MAE): Random Forest        0.896170\n",
            "Gradient Boosting    0.887363\n",
            "Name: mae, dtype: float64\n",
            "R-squared (R2): Random Forest        0.268137\n",
            "Gradient Boosting    0.272351\n",
            "Name: r2, dtype: float64\n"
          ]
        }
      ]
    },
    {
      "cell_type": "markdown",
      "source": [
        "\n",
        "**Key Observations:**\n",
        "\n",
        "* Both Random Forest and Gradient Boosting models showed decent performance in predicting newly diagnosed diabetes using socioeconomic factors.\n",
        "* Advanced ensemble methods can leverage the strengths of multiple models and capture complex relationships between socioeconomic factors and diabetes incidence.\n",
        "\n",
        "**Advanced Ensemble Methods:**\n",
        "\n",
        "\n",
        "In order to enhance the predictive accuracy and gain deeper insights into the relationship between socioeconomic factors and newly diagnosed diabetes, I will explore advanced ensemble methods. These methods combine the predictions of multiple models and leverage their individual strengths to improve the overall performance. The following ensemble models will be considered: XGBoost, AdaBoost and Voting Classifiers/Regressor.  "
      ],
      "metadata": {
        "id": "3sE0_dOgfAFg"
      }
    },
    {
      "cell_type": "markdown",
      "source": [
        "## **Applying Advanced Ensemble Methods: Enhancing Predictive Accuracy and Insights**"
      ],
      "metadata": {
        "id": "CSfSq6xne5LU"
      }
    },
    {
      "cell_type": "code",
      "source": [
        "from xgboost import XGBRegressor\n",
        "from sklearn.ensemble import AdaBoostRegressor, VotingRegressor\n",
        "\n",
        "# Define the models\n",
        "xgb_model = XGBRegressor(random_state=42)\n",
        "ada_model = AdaBoostRegressor(random_state=42)\n",
        "voting_model = VotingRegressor([('xgb', xgb_model), ('ada', ada_model)])\n",
        "\n",
        "# Train the models\n",
        "xgb_model.fit(X_train_selected, y_train)\n",
        "ada_model.fit(X_train_selected, y_train)\n",
        "voting_model.fit(X_train_selected, y_train)\n",
        "\n",
        "# Make predictions using the models\n",
        "xgb_predictions = xgb_model.predict(X_test_selected)\n",
        "ada_predictions = ada_model.predict(X_test_selected)\n",
        "voting_predictions = voting_model.predict(X_test_selected)\n",
        "\n",
        "# Evaluate the models\n",
        "xgb_mse = mean_squared_error(y_test, xgb_predictions)\n",
        "ada_mse = mean_squared_error(y_test, ada_predictions)\n",
        "voting_mse = mean_squared_error(y_test, voting_predictions)\n",
        "\n",
        "xgb_mae = mean_absolute_error(y_test, xgb_predictions)\n",
        "ada_mae = mean_absolute_error(y_test, ada_predictions)\n",
        "voting_mae = mean_absolute_error(y_test, voting_predictions)\n",
        "\n",
        "xgb_r2 = r2_score(y_test, xgb_predictions)\n",
        "ada_r2 = r2_score(y_test, ada_predictions)\n",
        "voting_r2 = r2_score(y_test, voting_predictions)\n",
        "\n",
        "# Display evaluation metrics\n",
        "print(\"Model Evaluation Metrics - XGBoost:\")\n",
        "print(\"Mean Squared Error (MSE):\", xgb_mse)\n",
        "print(\"Mean Absolute Error (MAE):\", xgb_mae)\n",
        "print(\"R-squared (R2):\", xgb_r2)\n",
        "print()\n",
        "\n",
        "print(\"Model Evaluation Metrics - AdaBoost:\")\n",
        "print(\"Mean Squared Error (MSE):\", ada_mse)\n",
        "print(\"Mean Absolute Error (MAE):\", ada_mae)\n",
        "print(\"R-squared (R2):\", ada_r2)\n",
        "print()\n",
        "\n",
        "print(\"Model Evaluation Metrics - Voting Regressor:\")\n",
        "print(\"Mean Squared Error (MSE):\", voting_mse)\n",
        "print(\"Mean Absolute Error (MAE):\", voting_mae)\n",
        "print(\"R-squared (R2):\", voting_r2)"
      ],
      "metadata": {
        "colab": {
          "base_uri": "https://localhost:8080/"
        },
        "id": "lIEVBMbxcV3q",
        "outputId": "91553e98-194f-4eab-bd30-7d32778cdae9"
      },
      "execution_count": null,
      "outputs": [
        {
          "output_type": "stream",
          "name": "stdout",
          "text": [
            "Model Evaluation Metrics - XGBoost:\n",
            "Mean Squared Error (MSE): 1.4332449714653972\n",
            "Mean Absolute Error (MAE): 0.9532599840076479\n",
            "R-squared (R2): 0.192339083679273\n",
            "\n",
            "Model Evaluation Metrics - AdaBoost:\n",
            "Mean Squared Error (MSE): 1.478739040330589\n",
            "Mean Absolute Error (MAE): 0.9652133172329356\n",
            "R-squared (R2): 0.16670230693952914\n",
            "\n",
            "Model Evaluation Metrics - Voting Regressor:\n",
            "Mean Squared Error (MSE): 1.3513206908648017\n",
            "Mean Absolute Error (MAE): 0.9239762543988038\n",
            "R-squared (R2): 0.23850498054695357\n"
          ]
        }
      ]
    },
    {
      "cell_type": "markdown",
      "source": [
        "## **Feature Engineering: Explore advanced feature engineering techniques**\n",
        "\n",
        "* Before proceeding with feature engineering, it is important to understand that the existing set of socioeconomic features may not fully capture the complexity of the relationship with newly diagnosed diabetes cases. By exploring advanced feature engineering techniques, we aim to enhance the predictive power of the model by creating new features that can better represent the underlying patterns and interactions in the data.\n",
        "\n",
        "* Transforming variables, creating interaction terms, deriving new variables based on domain knowledge, or incorporating external data sources can provide additional insights into the socioeconomic factors that contribute to diabetes incidence. These techniques allow us to capture non-linear relationships, account for interaction effects, and leverage additional information beyond the original dataset.\n",
        "\n",
        "* By implementing advanced feature engineering, we aim to uncover hidden associations and gain a deeper understanding of the factors influencing newly diagnosed diabetes cases. This will enable us to build a more accurate and robust prediction model, leading to improved prevention and management strategies for diabetes."
      ],
      "metadata": {
        "id": "iToYYV1Be9xB"
      }
    },
    {
      "cell_type": "code",
      "source": [
        "from sklearn.preprocessing import PolynomialFeatures\n",
        "\n",
        "metrics = ['mse', 'mae', 'r2']\n",
        "\n",
        "# Define the feature engineering steps\n",
        "poly_features = PolynomialFeatures(degree=2, interaction_only=True, include_bias=False)\n",
        "\n",
        "# Apply feature engineering to the training set\n",
        "X_train_engineered = poly_features.fit_transform(X_train_selected)\n",
        "\n",
        "# Apply feature engineering to the test set\n",
        "X_test_engineered = poly_features.transform(X_test_selected)\n",
        "\n",
        "# Define the models\n",
        "models = [\n",
        "    (\"Random Forest\", RandomForestRegressor(random_state=42)),\n",
        "    (\"Gradient Boosting\", GradientBoostingRegressor(random_state=42)),\n",
        "]\n",
        "\n",
        "# Initialize empty dictionaries to store the metric scores\n",
        "metric_scores = {metric: [] for metric in metrics}\n",
        "\n",
        "# Loop through the models and calculate the evaluation metrics\n",
        "for name, model in models:\n",
        "    # Create a pipeline that pre-processes the data, performs feature engineering, and trains a model\n",
        "    pipeline = Pipeline(steps=[\n",
        "        ('preprocessor', numeric_transformer),\n",
        "        ('feature_engineering', poly_features),\n",
        "        (name, model)\n",
        "    ])\n",
        "\n",
        "    # Train the model\n",
        "    pipeline.fit(X_train_selected, y_train)\n",
        "\n",
        "    # Make predictions using the model\n",
        "    predictions = pipeline.predict(X_test_selected)\n",
        "\n",
        "    # Calculate the evaluation metrics\n",
        "    metric_scores['mse'].append(mean_squared_error(y_test, predictions))\n",
        "    metric_scores['mae'].append(mean_absolute_error(y_test, predictions))\n",
        "    metric_scores['r2'].append(r2_score(y_test, predictions))\n",
        "\n",
        "# Convert the metric scores to a DataFrame\n",
        "metric_scores_df = pd.DataFrame(metric_scores, index=[name for name, _ in models])\n",
        "\n",
        "# Plot the metric scores\n",
        "metric_scores_df.plot(kind='bar', figsize=(8, 6))\n",
        "plt.title('Evaluation Metrics Comparison')\n",
        "plt.xlabel('Model')\n",
        "plt.ylabel('Score')\n",
        "plt.xticks(rotation=45)\n",
        "plt.legend(loc='lower right')\n",
        "plt.show()"
      ],
      "metadata": {
        "colab": {
          "base_uri": "https://localhost:8080/",
          "height": 649
        },
        "id": "sJn99pYOiFaQ",
        "outputId": "df8e0bd5-979a-4614-f35e-54aa1faac2bf"
      },
      "execution_count": null,
      "outputs": [
        {
          "output_type": "display_data",
          "data": {
            "text/plain": [
              "<Figure size 800x600 with 1 Axes>"
            ],
            "image/png": "[encoded data removed]"
          },
          "metadata": {}
        }
      ]
    },
    {
      "cell_type": "markdown",
      "source": [
        "### **Conclusion:**\n",
        "\n",
        "In this predictive modeling project, I aimed to predict the number of \"Newly_Diagnosed\" diabetes cases using demographic, socioeconomic, and health-related factors. Various regression models were built and compared, with the Gradient Boosting model demonstrating the most promising results. However, despite its performance, there remains potential for improvement. Therefore, I propose exploring deep neural networks to capture more complex relationships in the dataset and further refining the dataset by incorporating genomic data and personalized medicine information.\n",
        "\n",
        "### **Key Findings:**\n",
        "\n",
        "* While the initial Linear Regression model displayed suboptimal performance, the Random Forest and Gradient Boosting models showed promise, with the Gradient Boosting model outperforming in terms of R2 score.\n",
        "\n",
        "* Advanced ensemble methods, although useful, still left room for improvement in predictive accuracy. This gap highlights the potential benefits of employing more sophisticated modeling techniques, like deep neural networks.\n",
        "\n",
        "**Future Steps:**\n",
        "\n",
        "To further enhance the predictive power of my models, I propose exploring deep learning techniques, specifically deep neural networks. Deep neural networks can capture highly complex, non-linear relationships and interactions in data that traditional machine learning models may miss. They have the potential to significantly improve predictive accuracy and provide a more nuanced understanding of the factors influencing newly diagnosed diabetes cases.\n",
        "\n",
        "Additionally, I plan to refine the dataset by incorporating genomic data and information related to personalized medicine. Genomic data can offer insights into genetic predispositions to diabetes, thus providing a more comprehensive view of the factors contributing to disease onset. This kind of data could reveal unique patterns and interactions that are not apparent in the current set of variables.\n",
        "\n",
        "In terms of personalized medicine, incorporating this data can help tailor prevention and management strategies to individual needs. It can provide information about how different individuals might respond to various interventions, thereby allowing for more targeted and effective strategies. Integrating this information into the model could enhance its predictive power and its applicability in real-world scenarios.\n",
        "\n",
        "In summary, the future focus will be on leveraging deep neural networks and enhancing the dataset with genomic data and personalized medicine information. The ultimate goal remains to understand the factors contributing to new diabetes diagnoses better, which would help formulate more effective, personalized prevention, and management strategies."
      ],
      "metadata": {
        "id": "QYE6Ttuy6Ww1"
      }
    },
    {
      "cell_type": "code",
      "source": [],
      "metadata": {
        "id": "2dhLahf6iaEy"
      },
      "execution_count": null,
      "outputs": []
    }
  ]
}